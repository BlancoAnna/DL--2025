{
  "cells": [
    {
      "cell_type": "markdown",
      "metadata": {
        "id": "view-in-github",
        "colab_type": "text"
      },
      "source": [
        "<a href=\"https://colab.research.google.com/github/BlancoAnna/DL--2025/blob/main/P10_Attention.ipynb/P10_Attention.ipynb\" target=\"_parent\"><img src=\"https://colab.research.google.com/assets/colab-badge.svg\" alt=\"Open In Colab\"/></a>"
      ]
    },
    {
      "cell_type": "markdown",
      "metadata": {
        "id": "-JGr-h1xvTOZ"
      },
      "source": [
        "# MNIST Simple Pointer Network\n",
        "\n",
        "In this notebook we will learn how to create a simple [Pointer Network](https://arxiv.org/abs/1506.03134) (Vinyals et al. 2015) for solving a dummy task on the MNIST dataset.\n",
        "\n",
        "A Pointer Network uses the **attention mechanism’s** output to model the conditional probability of each element on its input. This can be extremely useful in tasks that require selecting one (or more) elements of the input sequence/set to be solved.\n",
        "\n",
        "In this notebook we will play with a simple Pointer net to solve the following task: Given an MNIST image with a (query) digit we want our model to find the image that contains the consecutive digit to the query image among a set of input images. For example, imagine we use an image with the digit \"5\" as query and let the input of the model be a set of 10 images with different digits, the output of our model must be a probability distribution over those 10 images indicating the presence or not of the digit \"6\" in each of them."
      ]
    },
    {
      "cell_type": "code",
      "execution_count": 1,
      "metadata": {
        "id": "h4Z7-Wm7_5K6",
        "colab": {
          "base_uri": "https://localhost:8080/"
        },
        "outputId": "fa156044-981d-46c2-a597-7e9c2a273d7a"
      },
      "outputs": [
        {
          "output_type": "stream",
          "name": "stdout",
          "text": [
            "PyTorch Version:  2.6.0+cu124\n"
          ]
        }
      ],
      "source": [
        "import torch\n",
        "import torchvision\n",
        "import torch.nn as nn\n",
        "import torch.optim as optim\n",
        "import numpy as np\n",
        "from torch.utils.data import Dataset, DataLoader\n",
        "\n",
        "import matplotlib.pyplot as plt\n",
        "from collections import Counter\n",
        "import time\n",
        "import os\n",
        "import copy\n",
        "print(\"PyTorch Version: \",torch.__version__)"
      ]
    },
    {
      "cell_type": "code",
      "execution_count": 2,
      "metadata": {
        "id": "RNJh2q4lQGYF",
        "colab": {
          "base_uri": "https://localhost:8080/"
        },
        "outputId": "916a6915-e750-4d54-b468-2b82f2cbe01c"
      },
      "outputs": [
        {
          "output_type": "stream",
          "name": "stdout",
          "text": [
            "Using device: cuda\n"
          ]
        }
      ],
      "source": [
        "#If this cell fails you need to change the runtime of your colab notebook to GPU\n",
        "# Go to Runtime -> Change Runtime Type and select GPU\n",
        "assert torch.cuda.is_available(), \"GPU is not enabled\"\n",
        "\n",
        "#  use gpu if available\n",
        "device = torch.device(\"cuda\" if torch.cuda.is_available() else \"cpu\")\n",
        "print(\"Using device:\", device)"
      ]
    },
    {
      "cell_type": "markdown",
      "metadata": {
        "id": "CyM0DXter9Mp"
      },
      "source": [
        "### Create the dataset\n",
        "\n",
        "Let's start creating a Dataset class to understand better the task we want to solve. Each sample in our dataset will be formed by:\n",
        "\n",
        "* a query image\n",
        "* a set of 10 images, 9 of them selected randomly (distractors) and one selected as the consecutive digit of the digit in the query image.\n",
        "* the ground truth: a 10-D one hot vector indicating the position of the image we want our model to select (\"point to\")."
      ]
    },
    {
      "cell_type": "code",
      "execution_count": 3,
      "metadata": {
        "id": "XksdVS7GHWw0"
      },
      "outputs": [],
      "source": [
        "class MNISTAttentionDataset(Dataset):\n",
        "    \"\"\"MNIST attention toy dataset.\"\"\"\n",
        "\n",
        "    def __init__(self, num_inputs, train=True):\n",
        "        \"\"\"\n",
        "        Args:\n",
        "            num_inputs (int) - The number of images in the input of our model.\n",
        "            train (bool, optional) – If True, creates dataset from MNIST training\n",
        "                samples, otherwise from test\n",
        "        \"\"\"\n",
        "\n",
        "        self.num_inputs = num_inputs\n",
        "        self.mnist = torchvision.datasets.MNIST('../data', train=train, download=True)\n",
        "\n",
        "        # dict with samples for each class label\n",
        "        self.data = {}\n",
        "        for label in range(10):\n",
        "            #Collect in separate lists the different digits, and normalise values to [0, 1]\n",
        "            self.data[label] = self.mnist.data[self.mnist.targets == label] / 255.0\n",
        "\n",
        "\n",
        "\n",
        "    def __len__(self):\n",
        "        # The length makes little sense here, as we generate samples dynamically\n",
        "        # Here we return the number of images originally in the dataset\n",
        "        return self.mnist.data.shape[0]\n",
        "\n",
        "    def __getitem__(self, idx):\n",
        "        \"\"\"\n",
        "        Args:\n",
        "            idx (int) - an index indicating which digit should be used as query\n",
        "        \"\"\"\n",
        "        c = self.mnist.targets[idx].item()     # Find out which is the class of the digit requested\n",
        "        query = self.mnist.data[idx].flatten() / 255.0 # Get the data for the digit requested\n",
        "\n",
        "        correct_pos = np.random.randint(0, self.num_inputs) # Decide on a random position where the correct answer will be\n",
        "\n",
        "        inputs = np.zeros((self.num_inputs, 784)) # Create an array to hold the inputs (from which we have to select one)\n",
        "        for j in range(self.num_inputs):\n",
        "            if j == correct_pos: # In the correct position, place a random digit that comes from the c+1 class\n",
        "                idx = np.random.randint(0,self.data[(c+1)%10].shape[0])\n",
        "                inputs[j,:] = self.data[(c+1)%10][idx,:].flatten()\n",
        "            else: # In the rest of the positions, place random digits that come from the rest of the classes\n",
        "                c_distractor = np.random.choice([n for n in [0,1,2,3,4,5,6,7,8,9] if n!=(c+1)%10])\n",
        "                idx = np.random.randint(0,self.data[c_distractor].shape[0])\n",
        "                inputs[j,:] = self.data[c_distractor][idx,:].flatten()\n",
        "\n",
        "        sample = {'x': inputs, 'query': query, 'y': correct_pos}\n",
        "\n",
        "        return sample"
      ]
    },
    {
      "cell_type": "code",
      "execution_count": 4,
      "metadata": {
        "id": "hL2kwN-kpjUc",
        "colab": {
          "base_uri": "https://localhost:8080/"
        },
        "outputId": "2ff470ca-40d3-4b17-a157-6bb1e2e20205"
      },
      "outputs": [
        {
          "output_type": "stream",
          "name": "stderr",
          "text": [
            "100%|██████████| 9.91M/9.91M [00:00<00:00, 18.3MB/s]\n",
            "100%|██████████| 28.9k/28.9k [00:00<00:00, 497kB/s]\n",
            "100%|██████████| 1.65M/1.65M [00:00<00:00, 4.48MB/s]\n",
            "100%|██████████| 4.54k/4.54k [00:00<00:00, 7.23MB/s]\n"
          ]
        }
      ],
      "source": [
        "num_inputs = 10\n",
        "\n",
        "train_dataset = MNISTAttentionDataset(num_inputs, train=True)\n",
        "test_dataset = MNISTAttentionDataset(num_inputs, train=False)\n",
        "\n",
        "train_loader = DataLoader(train_dataset, batch_size = 64, shuffle = True)\n",
        "test_loader  = DataLoader(test_dataset, batch_size = 1000, shuffle = False)"
      ]
    },
    {
      "cell_type": "markdown",
      "metadata": {
        "id": "RES5R0CMr3bE"
      },
      "source": [
        "### Visualize one training sample"
      ]
    },
    {
      "cell_type": "code",
      "execution_count": 5,
      "metadata": {
        "id": "fJY6zR_lqR41",
        "colab": {
          "base_uri": "https://localhost:8080/",
          "height": 255
        },
        "outputId": "ddba7cf9-f0d3-465c-ca42-e827ba6a3c82"
      },
      "outputs": [
        {
          "output_type": "stream",
          "name": "stderr",
          "text": [
            "<ipython-input-3-c662d2e649e2>:42: DeprecationWarning: __array__ implementation doesn't accept a copy keyword, so passing copy=False failed. __array__ must implement 'dtype' and 'copy' keyword arguments.\n",
            "  inputs[j,:] = self.data[(c+1)%10][idx,:].flatten()\n",
            "<ipython-input-3-c662d2e649e2>:46: DeprecationWarning: __array__ implementation doesn't accept a copy keyword, so passing copy=False failed. __array__ must implement 'dtype' and 'copy' keyword arguments.\n",
            "  inputs[j,:] = self.data[c_distractor][idx,:].flatten()\n"
          ]
        },
        {
          "output_type": "stream",
          "name": "stdout",
          "text": [
            "Data: (10, 784), Query: torch.Size([784])\n"
          ]
        },
        {
          "output_type": "display_data",
          "data": {
            "text/plain": [
              "<Figure size 3300x300 with 11 Axes>"
            ],
            "image/png": "[encoded data removed]"
          },
          "metadata": {}
        }
      ],
      "source": [
        "sample = train_dataset[0]\n",
        "\n",
        "print(f\"Data: {sample['x'].shape}, Query: {sample['query'].shape}\")\n",
        "\n",
        "fig = plt.figure(figsize=(33, 3))\n",
        "plt.tight_layout()\n",
        "\n",
        "ax = plt.subplot(1, num_inputs + 1, 1)\n",
        "image = sample['query'].reshape(28,28)\n",
        "plt.imshow(image, cmap='gray')\n",
        "plt.plot([0,27,27,0,0], [0,0,27,27,0], c='b') # Draw a blue box around the query sample\n",
        "ax.set_title('Query')\n",
        "ax.axis('off')\n",
        "\n",
        "for i in range(num_inputs):\n",
        "    ax = plt.subplot(1, num_inputs + 1, i+2)\n",
        "    ax.set_title('Sample #{}'.format(i))\n",
        "    ax.axis('off')\n",
        "    image = sample['x'][i].reshape(28,28)\n",
        "    plt.imshow(image, cmap='gray')\n",
        "    if i == sample['y']:\n",
        "        plt.plot([0,27,27,0,0], [0,0,27,27,0], c='g') # Draw a green box around the correct sample\n",
        "        ax.set_title('Target')\n",
        "    else:\n",
        "        plt.plot([0,27,27,0,0], [0,0,27,27,0], c='r') # Draw a red box around the wrong sample\n",
        "        ax.set_title('Distractor #{}'.format(i))\n",
        "    ax.axis('off')\n",
        "\n",
        "plt.show()"
      ]
    },
    {
      "cell_type": "markdown",
      "metadata": {
        "id": "DVaMM-n2sFF6"
      },
      "source": [
        "### Create the model"
      ]
    },
    {
      "cell_type": "code",
      "execution_count": 6,
      "metadata": {
        "id": "BesD8B1BAW9u"
      },
      "outputs": [],
      "source": [
        "class AttentionModel(nn.Module):\n",
        "    def __init__(self, input_dim, num_inputs, hidden_dim):\n",
        "        super(AttentionModel, self).__init__()\n",
        "        self.hidden_dim = hidden_dim\n",
        "        self.num_inputs = num_inputs\n",
        "        self.input_dim  = input_dim\n",
        "\n",
        "        # Weights (Fully Connected layers)\n",
        "        self.fc_q = nn.Linear(input_dim, hidden_dim) # Query FC\n",
        "        self.fc_k = nn.Linear(input_dim, hidden_dim) # Keys FC. Here the input acts as the keys, and there is no value\n",
        "        self.fc_v = nn.Linear(hidden_dim, 1) # Values FC\n",
        "\n",
        "    def scoringAdditive(self, query, keys):\n",
        "        # Query is                                              (B X 1 X input_dim)\n",
        "        # Repeat (tile) the query so that it has the same size as the keys (input)\n",
        "        query = query.repeat(1, self.num_inputs, 1)           # (B X num_inputs X input_dim)\n",
        "        query = torch.tanh(self.fc_q(query))                  # (B X num_inputs X hidden_dim)\n",
        "\n",
        "        # Keys is                                               (B X num_inputs X input_dim)\n",
        "        keys = torch.tanh(self.fc_k(keys))                    # (B X num_inputs X hidden_dim)\n",
        "\n",
        "        # Attention Score\n",
        "        score = torch.tanh(query + keys )                     # (B X num_inputs X hidden_dim)\n",
        "        score = self.fc_v(score)                              # (B X num_inputs X 1)\n",
        "        return score\n",
        "\n",
        "    def forward(self, x, query):\n",
        "        query = query.unsqueeze(1) # (B x input_dim) -> (B x 1 x input_dim)\n",
        "\n",
        "        # Calculate attention scores\n",
        "        output = self.scoringAdditive(query, x)\n",
        "        output = output.squeeze()       # (B x 1 x num_inputs) -> (B x num_inputs)\n",
        "        return output"
      ]
    },
    {
      "cell_type": "markdown",
      "metadata": {
        "id": "y_yCyvgg9Pbj"
      },
      "source": [
        "<font color=\"blue\">\n",
        "\n",
        "**QUESTION**: The Additive score gives logits that we should pass through a softmax to get the final attention weights. Why is there no softmax in the model above?</font>"
      ]
    },
    {
      "cell_type": "markdown",
      "metadata": {
        "id": "Yfo5uFMnnHqy"
      },
      "source": [
        "---\n",
        "    \n",
        "**ANSWER**: There's no softmax in the model because PyTorch’s `nn.CrossEntropyLoss()` already applies it internally. The model just returns raw logits, and the loss function handles the softmax during training, so adding it again would be redundant.\n",
        "\n",
        "\n",
        "---"
      ]
    },
    {
      "cell_type": "code",
      "execution_count": 7,
      "metadata": {
        "id": "nsyUZE0lHJ5-",
        "colab": {
          "base_uri": "https://localhost:8080/"
        },
        "outputId": "7efdd3ee-4f78-41b2-b844-7270e9f52310"
      },
      "outputs": [
        {
          "output_type": "stream",
          "name": "stdout",
          "text": [
            "AttentionModel(\n",
            "  (fc_q): Linear(in_features=784, out_features=256, bias=True)\n",
            "  (fc_k): Linear(in_features=784, out_features=256, bias=True)\n",
            "  (fc_v): Linear(in_features=256, out_features=1, bias=True)\n",
            ")\n"
          ]
        }
      ],
      "source": [
        "input_dim, num_inputs, hidden_dim = (784, 10, 256)\n",
        "\n",
        "model = AttentionModel(input_dim, num_inputs, hidden_dim)\n",
        "print(model)"
      ]
    },
    {
      "cell_type": "markdown",
      "metadata": {
        "id": "xmp0kuk2z3Rx"
      },
      "source": [
        "### Define the training method and train"
      ]
    },
    {
      "cell_type": "code",
      "execution_count": 8,
      "metadata": {
        "id": "6ZvGWqwDrc-V"
      },
      "outputs": [],
      "source": [
        "def train(model, device, train_loader, criterion, optimizer, epoch, log_interval = 100):\n",
        "    # Method to perform one epoch of training\n",
        "    model.train()\n",
        "    loss_values = []\n",
        "\n",
        "    for batch_idx, sample_batched in enumerate(train_loader):\n",
        "        data = sample_batched['x'].float()\n",
        "        query = sample_batched['query'].float()\n",
        "        target = sample_batched['y']\n",
        "        #print(data.shape, query.shape)\n",
        "        data, query, target = data.to(device), query.to(device), target.to(device)\n",
        "\n",
        "        optimizer.zero_grad()\n",
        "        output = model(data, query)\n",
        "        loss = criterion(output, target)\n",
        "        loss.backward()\n",
        "        optimizer.step()\n",
        "\n",
        "        loss_values.append(loss.detach().cpu().item())\n",
        "        if batch_idx % log_interval == 0:\n",
        "            print('Train Epoch: {} [{}/{} ({:.0f}%)]\\tLoss: {:.6f}'.format(\n",
        "                epoch, batch_idx * len(data), len(train_loader.dataset),\n",
        "                100. * batch_idx / len(train_loader), loss.item()))\n",
        "\n",
        "    return loss_values"
      ]
    },
    {
      "cell_type": "code",
      "execution_count": 9,
      "metadata": {
        "id": "7L5ZTARBnHqy",
        "colab": {
          "base_uri": "https://localhost:8080/"
        },
        "outputId": "b1de2b2d-9615-4f92-b0d4-26f3c800660f"
      },
      "outputs": [
        {
          "output_type": "stream",
          "name": "stderr",
          "text": [
            "<ipython-input-3-c662d2e649e2>:46: DeprecationWarning: __array__ implementation doesn't accept a copy keyword, so passing copy=False failed. __array__ must implement 'dtype' and 'copy' keyword arguments.\n",
            "  inputs[j,:] = self.data[c_distractor][idx,:].flatten()\n",
            "<ipython-input-3-c662d2e649e2>:42: DeprecationWarning: __array__ implementation doesn't accept a copy keyword, so passing copy=False failed. __array__ must implement 'dtype' and 'copy' keyword arguments.\n",
            "  inputs[j,:] = self.data[(c+1)%10][idx,:].flatten()\n"
          ]
        },
        {
          "output_type": "stream",
          "name": "stdout",
          "text": [
            "Train Epoch: 1 [0/60000 (0%)]\tLoss: 2.308777\n",
            "Train Epoch: 1 [6400/60000 (11%)]\tLoss: 1.657425\n",
            "Train Epoch: 1 [12800/60000 (21%)]\tLoss: 0.931639\n",
            "Train Epoch: 1 [19200/60000 (32%)]\tLoss: 0.979491\n",
            "Train Epoch: 1 [25600/60000 (43%)]\tLoss: 0.802637\n",
            "Train Epoch: 1 [32000/60000 (53%)]\tLoss: 0.682887\n",
            "Train Epoch: 1 [38400/60000 (64%)]\tLoss: 0.790683\n",
            "Train Epoch: 1 [44800/60000 (75%)]\tLoss: 0.659537\n",
            "Train Epoch: 1 [51200/60000 (85%)]\tLoss: 0.740736\n",
            "Train Epoch: 1 [57600/60000 (96%)]\tLoss: 0.709824\n",
            "Train Epoch: 2 [0/60000 (0%)]\tLoss: 0.507047\n",
            "Train Epoch: 2 [6400/60000 (11%)]\tLoss: 0.589064\n",
            "Train Epoch: 2 [12800/60000 (21%)]\tLoss: 0.467279\n",
            "Train Epoch: 2 [19200/60000 (32%)]\tLoss: 0.549468\n",
            "Train Epoch: 2 [25600/60000 (43%)]\tLoss: 0.425021\n",
            "Train Epoch: 2 [32000/60000 (53%)]\tLoss: 0.581897\n",
            "Train Epoch: 2 [38400/60000 (64%)]\tLoss: 0.365295\n",
            "Train Epoch: 2 [44800/60000 (75%)]\tLoss: 0.325618\n",
            "Train Epoch: 2 [51200/60000 (85%)]\tLoss: 0.277847\n",
            "Train Epoch: 2 [57600/60000 (96%)]\tLoss: 0.509739\n",
            "Train Epoch: 3 [0/60000 (0%)]\tLoss: 0.500346\n",
            "Train Epoch: 3 [6400/60000 (11%)]\tLoss: 0.648094\n",
            "Train Epoch: 3 [12800/60000 (21%)]\tLoss: 0.501695\n",
            "Train Epoch: 3 [19200/60000 (32%)]\tLoss: 0.506117\n",
            "Train Epoch: 3 [25600/60000 (43%)]\tLoss: 0.488315\n",
            "Train Epoch: 3 [32000/60000 (53%)]\tLoss: 0.467927\n",
            "Train Epoch: 3 [38400/60000 (64%)]\tLoss: 0.569383\n",
            "Train Epoch: 3 [44800/60000 (75%)]\tLoss: 0.361677\n",
            "Train Epoch: 3 [51200/60000 (85%)]\tLoss: 0.286294\n",
            "Train Epoch: 3 [57600/60000 (96%)]\tLoss: 0.361347\n",
            "Train Epoch: 4 [0/60000 (0%)]\tLoss: 0.316026\n",
            "Train Epoch: 4 [6400/60000 (11%)]\tLoss: 0.224561\n",
            "Train Epoch: 4 [12800/60000 (21%)]\tLoss: 0.287995\n",
            "Train Epoch: 4 [19200/60000 (32%)]\tLoss: 0.428638\n",
            "Train Epoch: 4 [25600/60000 (43%)]\tLoss: 0.228487\n",
            "Train Epoch: 4 [32000/60000 (53%)]\tLoss: 0.286466\n",
            "Train Epoch: 4 [38400/60000 (64%)]\tLoss: 0.389723\n",
            "Train Epoch: 4 [44800/60000 (75%)]\tLoss: 0.501643\n",
            "Train Epoch: 4 [51200/60000 (85%)]\tLoss: 0.220767\n",
            "Train Epoch: 4 [57600/60000 (96%)]\tLoss: 0.309546\n",
            "Train Epoch: 5 [0/60000 (0%)]\tLoss: 0.379333\n",
            "Train Epoch: 5 [6400/60000 (11%)]\tLoss: 0.312439\n",
            "Train Epoch: 5 [12800/60000 (21%)]\tLoss: 0.407967\n",
            "Train Epoch: 5 [19200/60000 (32%)]\tLoss: 0.330249\n",
            "Train Epoch: 5 [25600/60000 (43%)]\tLoss: 0.238316\n",
            "Train Epoch: 5 [32000/60000 (53%)]\tLoss: 0.300187\n",
            "Train Epoch: 5 [38400/60000 (64%)]\tLoss: 0.279245\n",
            "Train Epoch: 5 [44800/60000 (75%)]\tLoss: 0.198002\n",
            "Train Epoch: 5 [51200/60000 (85%)]\tLoss: 0.178677\n",
            "Train Epoch: 5 [57600/60000 (96%)]\tLoss: 0.295343\n",
            "Train Epoch: 6 [0/60000 (0%)]\tLoss: 0.321496\n",
            "Train Epoch: 6 [6400/60000 (11%)]\tLoss: 0.256567\n",
            "Train Epoch: 6 [12800/60000 (21%)]\tLoss: 0.228063\n",
            "Train Epoch: 6 [19200/60000 (32%)]\tLoss: 0.327644\n",
            "Train Epoch: 6 [25600/60000 (43%)]\tLoss: 0.171192\n",
            "Train Epoch: 6 [32000/60000 (53%)]\tLoss: 0.290566\n",
            "Train Epoch: 6 [38400/60000 (64%)]\tLoss: 0.184441\n",
            "Train Epoch: 6 [44800/60000 (75%)]\tLoss: 0.454941\n",
            "Train Epoch: 6 [51200/60000 (85%)]\tLoss: 0.273758\n",
            "Train Epoch: 6 [57600/60000 (96%)]\tLoss: 0.249086\n",
            "Train Epoch: 7 [0/60000 (0%)]\tLoss: 0.219075\n",
            "Train Epoch: 7 [6400/60000 (11%)]\tLoss: 0.330191\n",
            "Train Epoch: 7 [12800/60000 (21%)]\tLoss: 0.250920\n",
            "Train Epoch: 7 [19200/60000 (32%)]\tLoss: 0.169370\n",
            "Train Epoch: 7 [25600/60000 (43%)]\tLoss: 0.283753\n",
            "Train Epoch: 7 [32000/60000 (53%)]\tLoss: 0.125728\n",
            "Train Epoch: 7 [38400/60000 (64%)]\tLoss: 0.202940\n",
            "Train Epoch: 7 [44800/60000 (75%)]\tLoss: 0.257326\n",
            "Train Epoch: 7 [51200/60000 (85%)]\tLoss: 0.155315\n",
            "Train Epoch: 7 [57600/60000 (96%)]\tLoss: 0.179467\n",
            "Train Epoch: 8 [0/60000 (0%)]\tLoss: 0.325085\n",
            "Train Epoch: 8 [6400/60000 (11%)]\tLoss: 0.133823\n",
            "Train Epoch: 8 [12800/60000 (21%)]\tLoss: 0.364581\n",
            "Train Epoch: 8 [19200/60000 (32%)]\tLoss: 0.303527\n",
            "Train Epoch: 8 [25600/60000 (43%)]\tLoss: 0.285784\n",
            "Train Epoch: 8 [32000/60000 (53%)]\tLoss: 0.208340\n",
            "Train Epoch: 8 [38400/60000 (64%)]\tLoss: 0.208536\n",
            "Train Epoch: 8 [44800/60000 (75%)]\tLoss: 0.245305\n",
            "Train Epoch: 8 [51200/60000 (85%)]\tLoss: 0.512158\n",
            "Train Epoch: 8 [57600/60000 (96%)]\tLoss: 0.217414\n",
            "Train Epoch: 9 [0/60000 (0%)]\tLoss: 0.388901\n",
            "Train Epoch: 9 [6400/60000 (11%)]\tLoss: 0.335414\n",
            "Train Epoch: 9 [12800/60000 (21%)]\tLoss: 0.343691\n",
            "Train Epoch: 9 [19200/60000 (32%)]\tLoss: 0.263911\n",
            "Train Epoch: 9 [25600/60000 (43%)]\tLoss: 0.104699\n",
            "Train Epoch: 9 [32000/60000 (53%)]\tLoss: 0.247172\n",
            "Train Epoch: 9 [38400/60000 (64%)]\tLoss: 0.196936\n",
            "Train Epoch: 9 [44800/60000 (75%)]\tLoss: 0.263598\n",
            "Train Epoch: 9 [51200/60000 (85%)]\tLoss: 0.239048\n",
            "Train Epoch: 9 [57600/60000 (96%)]\tLoss: 0.222369\n",
            "Train Epoch: 10 [0/60000 (0%)]\tLoss: 0.170293\n",
            "Train Epoch: 10 [6400/60000 (11%)]\tLoss: 0.229576\n",
            "Train Epoch: 10 [12800/60000 (21%)]\tLoss: 0.144195\n",
            "Train Epoch: 10 [19200/60000 (32%)]\tLoss: 0.213389\n",
            "Train Epoch: 10 [25600/60000 (43%)]\tLoss: 0.394510\n",
            "Train Epoch: 10 [32000/60000 (53%)]\tLoss: 0.259686\n",
            "Train Epoch: 10 [38400/60000 (64%)]\tLoss: 0.209198\n",
            "Train Epoch: 10 [44800/60000 (75%)]\tLoss: 0.228725\n",
            "Train Epoch: 10 [51200/60000 (85%)]\tLoss: 0.313957\n",
            "Train Epoch: 10 [57600/60000 (96%)]\tLoss: 0.136527\n"
          ]
        }
      ],
      "source": [
        "model = model.to(device)\n",
        "\n",
        "optimizer = optim.Adam(model.parameters())\n",
        "\n",
        "criterion = nn.CrossEntropyLoss()\n",
        "\n",
        "epochs = 10\n",
        "\n",
        "loss_history = []\n",
        "for epoch in range(1, epochs + 1):\n",
        "    loss_values = train(model, device, train_loader, criterion, optimizer, epoch)\n",
        "    loss_history += loss_values"
      ]
    },
    {
      "cell_type": "code",
      "execution_count": 10,
      "metadata": {
        "id": "UK66OnlVnHqz",
        "colab": {
          "base_uri": "https://localhost:8080/",
          "height": 448
        },
        "outputId": "e75f4627-e76a-43aa-83ad-29234ce34bed"
      },
      "outputs": [
        {
          "output_type": "execute_result",
          "data": {
            "text/plain": [
              "[<matplotlib.lines.Line2D at 0x7c0f0cf54f90>]"
            ]
          },
          "metadata": {},
          "execution_count": 10
        },
        {
          "output_type": "display_data",
          "data": {
            "text/plain": [
              "<Figure size 640x480 with 1 Axes>"
            ],
            "image/png": "[encoded data removed]"
          },
          "metadata": {}
        }
      ],
      "source": [
        "plt.plot(loss_history)"
      ]
    },
    {
      "cell_type": "markdown",
      "metadata": {
        "id": "jONlgxyaEwC6"
      },
      "source": [
        "### Evaluate the trained model"
      ]
    },
    {
      "cell_type": "code",
      "execution_count": 11,
      "metadata": {
        "id": "izgtCdk5DV01"
      },
      "outputs": [],
      "source": [
        "def evaluate(model, device, test_loader):\n",
        "    model.eval()\n",
        "    total = 0.\n",
        "    ok = 0.\n",
        "    for batch_idx, sample_batched in enumerate(test_loader):\n",
        "        data = sample_batched['x'].float()\n",
        "        query = sample_batched['query'].float()\n",
        "        target = sample_batched['y'].numpy()\n",
        "        data, query = data.to(device), query.to(device)\n",
        "\n",
        "        output = model(data, query)\n",
        "        pred = np.argmax(output.detach().cpu().numpy(), axis=1)\n",
        "\n",
        "        ok += np.sum(pred == target)\n",
        "        total += len(test_loader)\n",
        "\n",
        "    print('Accuracy = ', ok/total)"
      ]
    },
    {
      "cell_type": "code",
      "execution_count": 12,
      "metadata": {
        "id": "REhHTDaenHqz",
        "colab": {
          "base_uri": "https://localhost:8080/"
        },
        "outputId": "ac8bf748-8f88-4157-e315-b7b27965ac12"
      },
      "outputs": [
        {
          "output_type": "stream",
          "name": "stderr",
          "text": [
            "<ipython-input-3-c662d2e649e2>:46: DeprecationWarning: __array__ implementation doesn't accept a copy keyword, so passing copy=False failed. __array__ must implement 'dtype' and 'copy' keyword arguments.\n",
            "  inputs[j,:] = self.data[c_distractor][idx,:].flatten()\n",
            "<ipython-input-3-c662d2e649e2>:42: DeprecationWarning: __array__ implementation doesn't accept a copy keyword, so passing copy=False failed. __array__ must implement 'dtype' and 'copy' keyword arguments.\n",
            "  inputs[j,:] = self.data[(c+1)%10][idx,:].flatten()\n"
          ]
        },
        {
          "output_type": "stream",
          "name": "stdout",
          "text": [
            "Accuracy =  92.06\n"
          ]
        }
      ],
      "source": [
        "evaluate(model, device, test_loader)"
      ]
    },
    {
      "cell_type": "markdown",
      "metadata": {
        "id": "CaOoDxjhhjxz"
      },
      "source": [
        "<font color=\"blue\">\n",
        "\n",
        "**EXERCISE 1**: Starting from the previous model as a template, implement the Dot-product Attention scoring function and substitute the additive one we were using before. Retrain and evalute the model.</font>\n",
        "\n",
        "<font color=\"blue\">\n",
        "\n",
        "> Hint: To transpose a tensor along specific dimensions you can use `torch.permute()`\n",
        "</font>\n",
        "\n",
        "\n",
        "<font color=\"blue\">\n",
        "\n",
        "> Hint: To perform a batch matrix-matrix product, use the function `torch.bmm()` https://pytorch.org/docs/stable/generated/torch.bmm.html\n",
        "</font>"
      ]
    },
    {
      "cell_type": "markdown",
      "source": [
        "\n",
        "```\n",
        "Attention(Q, K, V ) = softmax((Q * K.T) / √(dk)) * V\n",
        "```\n",
        "\n"
      ],
      "metadata": {
        "id": "T7fYkgbWLaWd"
      }
    },
    {
      "cell_type": "code",
      "execution_count": 13,
      "metadata": {
        "id": "HfGt2EtCnHqz"
      },
      "outputs": [],
      "source": [
        "# YOUR CODE HERE\n",
        "import torch.nn.functional as F\n",
        "\n",
        "class AttentionModelDOT(nn.Module):\n",
        "    def __init__(self, input_dim, num_inputs, hidden_dim):\n",
        "        super(AttentionModelDOT, self).__init__()\n",
        "        self.hidden_dim = hidden_dim\n",
        "        self.num_inputs = num_inputs\n",
        "        self.input_dim  = input_dim\n",
        "\n",
        "        # Weights (Fully Connected layers)\n",
        "        self.fc_q = nn.Linear(input_dim, hidden_dim) # Query FC\n",
        "        self.fc_k = nn.Linear(input_dim, hidden_dim) # Keys FC. Here the input acts as the keys, and there is no value\n",
        "        self.fc_v = nn.Linear(hidden_dim, 1) # Values FC\n",
        "\n",
        "    def scoringDotProduct(self, query, keys):\n",
        "        #YOUR CODE HERE\n",
        "        # Follow the formula: Attention(Q, K, V ) = softmax((Q * K.T) / √(dk)) * V\n",
        "        query = torch.tanh(self.fc_q(query)) # (B X 1 X hidden_dim) we dont do the repeat as the broadcasting will be done by bmm later.\n",
        "\n",
        "        keys = torch.tanh(self.fc_k(keys)) # (B X num_inputs X hidden_dim)\n",
        "\n",
        "        keys_T = keys.permute(0, 2, 1) #Transposing means to swap the shapes of the 2nd and 3rd dimensions\n",
        "                                       #(which are the dimensions of the array, not including the batch size)\n",
        "                                       #we pass from keys which was of shape (B X num_inputs X hidden_dim), to\n",
        "                                       #keys_T which is of (transpose) shape (B X hidden_dim X num_inputs)\n",
        "\n",
        "        attention_score = torch.bmm(query, keys_T) #is like a dot product but is bmm(batch-matrix-matrix) because it handles the Batch size also\n",
        "\n",
        "        attention_score = attention_score / (self.hidden_dim)**0.5 #Simplified formula (Not multiplied by V as the input acts as both the keys and the values.)\n",
        "\n",
        "        return attention_score\n",
        "\n",
        "    def forward(self, x, query):\n",
        "        query = query.unsqueeze(1) # (B x input_dim) -> (B x 1 x input_dim)\n",
        "\n",
        "        # Calculate attention scores\n",
        "        output = self.scoringDotProduct(query, x)\n",
        "\n",
        "        output = output.squeeze()       # (B x 1 x num_inputs) -> (B x num_inputs)\n",
        "        return output"
      ]
    },
    {
      "cell_type": "code",
      "source": [
        "input_dim, num_inputs, hidden_dim = (784, 10, 256)\n",
        "\n",
        "model = AttentionModelDOT(input_dim, num_inputs, hidden_dim)\n",
        "print(model)\n"
      ],
      "metadata": {
        "colab": {
          "base_uri": "https://localhost:8080/"
        },
        "id": "Ic9wgAC9LjZY",
        "outputId": "114801e0-168b-46b3-c4d4-cac995dfb0a9"
      },
      "execution_count": 14,
      "outputs": [
        {
          "output_type": "stream",
          "name": "stdout",
          "text": [
            "AttentionModelDOT(\n",
            "  (fc_q): Linear(in_features=784, out_features=256, bias=True)\n",
            "  (fc_k): Linear(in_features=784, out_features=256, bias=True)\n",
            "  (fc_v): Linear(in_features=256, out_features=1, bias=True)\n",
            ")\n"
          ]
        }
      ]
    },
    {
      "cell_type": "code",
      "source": [
        "model = model.to(device)\n",
        "\n",
        "optimizer = optim.Adam(model.parameters())\n",
        "\n",
        "criterion = nn.CrossEntropyLoss()\n",
        "\n",
        "epochs = 10\n",
        "\n",
        "loss_history = []\n",
        "for epoch in range(1, epochs + 1):\n",
        "    loss_values = train(model, device, train_loader, criterion, optimizer, epoch)\n",
        "    loss_history += loss_values"
      ],
      "metadata": {
        "colab": {
          "base_uri": "https://localhost:8080/"
        },
        "id": "9HN8QyJoLmZC",
        "outputId": "6bc39c7d-cfa0-4e09-b0c5-972966f43c12"
      },
      "execution_count": 15,
      "outputs": [
        {
          "output_type": "stream",
          "name": "stderr",
          "text": [
            "<ipython-input-3-c662d2e649e2>:46: DeprecationWarning: __array__ implementation doesn't accept a copy keyword, so passing copy=False failed. __array__ must implement 'dtype' and 'copy' keyword arguments.\n",
            "  inputs[j,:] = self.data[c_distractor][idx,:].flatten()\n",
            "<ipython-input-3-c662d2e649e2>:42: DeprecationWarning: __array__ implementation doesn't accept a copy keyword, so passing copy=False failed. __array__ must implement 'dtype' and 'copy' keyword arguments.\n",
            "  inputs[j,:] = self.data[(c+1)%10][idx,:].flatten()\n"
          ]
        },
        {
          "output_type": "stream",
          "name": "stdout",
          "text": [
            "Train Epoch: 1 [0/60000 (0%)]\tLoss: 2.301933\n",
            "Train Epoch: 1 [6400/60000 (11%)]\tLoss: 1.321842\n",
            "Train Epoch: 1 [12800/60000 (21%)]\tLoss: 0.683677\n",
            "Train Epoch: 1 [19200/60000 (32%)]\tLoss: 0.897880\n",
            "Train Epoch: 1 [25600/60000 (43%)]\tLoss: 0.677596\n",
            "Train Epoch: 1 [32000/60000 (53%)]\tLoss: 0.675338\n",
            "Train Epoch: 1 [38400/60000 (64%)]\tLoss: 0.623233\n",
            "Train Epoch: 1 [44800/60000 (75%)]\tLoss: 0.500740\n",
            "Train Epoch: 1 [51200/60000 (85%)]\tLoss: 0.438543\n",
            "Train Epoch: 1 [57600/60000 (96%)]\tLoss: 0.485988\n",
            "Train Epoch: 2 [0/60000 (0%)]\tLoss: 0.450935\n",
            "Train Epoch: 2 [6400/60000 (11%)]\tLoss: 0.552899\n",
            "Train Epoch: 2 [12800/60000 (21%)]\tLoss: 0.378117\n",
            "Train Epoch: 2 [19200/60000 (32%)]\tLoss: 0.620851\n",
            "Train Epoch: 2 [25600/60000 (43%)]\tLoss: 0.277293\n",
            "Train Epoch: 2 [32000/60000 (53%)]\tLoss: 0.506733\n",
            "Train Epoch: 2 [38400/60000 (64%)]\tLoss: 0.386178\n",
            "Train Epoch: 2 [44800/60000 (75%)]\tLoss: 0.390083\n",
            "Train Epoch: 2 [51200/60000 (85%)]\tLoss: 0.398016\n",
            "Train Epoch: 2 [57600/60000 (96%)]\tLoss: 0.526957\n",
            "Train Epoch: 3 [0/60000 (0%)]\tLoss: 0.501327\n",
            "Train Epoch: 3 [6400/60000 (11%)]\tLoss: 0.383484\n",
            "Train Epoch: 3 [12800/60000 (21%)]\tLoss: 0.367276\n",
            "Train Epoch: 3 [19200/60000 (32%)]\tLoss: 0.557230\n",
            "Train Epoch: 3 [25600/60000 (43%)]\tLoss: 0.389242\n",
            "Train Epoch: 3 [32000/60000 (53%)]\tLoss: 0.392363\n",
            "Train Epoch: 3 [38400/60000 (64%)]\tLoss: 0.427284\n",
            "Train Epoch: 3 [44800/60000 (75%)]\tLoss: 0.341229\n",
            "Train Epoch: 3 [51200/60000 (85%)]\tLoss: 0.394464\n",
            "Train Epoch: 3 [57600/60000 (96%)]\tLoss: 0.403992\n",
            "Train Epoch: 4 [0/60000 (0%)]\tLoss: 0.499834\n",
            "Train Epoch: 4 [6400/60000 (11%)]\tLoss: 0.271432\n",
            "Train Epoch: 4 [12800/60000 (21%)]\tLoss: 0.433352\n",
            "Train Epoch: 4 [19200/60000 (32%)]\tLoss: 0.467306\n",
            "Train Epoch: 4 [25600/60000 (43%)]\tLoss: 0.317084\n",
            "Train Epoch: 4 [32000/60000 (53%)]\tLoss: 0.538609\n",
            "Train Epoch: 4 [38400/60000 (64%)]\tLoss: 0.406409\n",
            "Train Epoch: 4 [44800/60000 (75%)]\tLoss: 0.395490\n",
            "Train Epoch: 4 [51200/60000 (85%)]\tLoss: 0.226998\n",
            "Train Epoch: 4 [57600/60000 (96%)]\tLoss: 0.358911\n",
            "Train Epoch: 5 [0/60000 (0%)]\tLoss: 0.245105\n",
            "Train Epoch: 5 [6400/60000 (11%)]\tLoss: 0.313648\n",
            "Train Epoch: 5 [12800/60000 (21%)]\tLoss: 0.309099\n",
            "Train Epoch: 5 [19200/60000 (32%)]\tLoss: 0.309866\n",
            "Train Epoch: 5 [25600/60000 (43%)]\tLoss: 0.337696\n",
            "Train Epoch: 5 [32000/60000 (53%)]\tLoss: 0.436068\n",
            "Train Epoch: 5 [38400/60000 (64%)]\tLoss: 0.302806\n",
            "Train Epoch: 5 [44800/60000 (75%)]\tLoss: 0.259511\n",
            "Train Epoch: 5 [51200/60000 (85%)]\tLoss: 0.249807\n",
            "Train Epoch: 5 [57600/60000 (96%)]\tLoss: 0.166580\n",
            "Train Epoch: 6 [0/60000 (0%)]\tLoss: 0.328769\n",
            "Train Epoch: 6 [6400/60000 (11%)]\tLoss: 0.229332\n",
            "Train Epoch: 6 [12800/60000 (21%)]\tLoss: 0.313776\n",
            "Train Epoch: 6 [19200/60000 (32%)]\tLoss: 0.429557\n",
            "Train Epoch: 6 [25600/60000 (43%)]\tLoss: 0.217155\n",
            "Train Epoch: 6 [32000/60000 (53%)]\tLoss: 0.173017\n",
            "Train Epoch: 6 [38400/60000 (64%)]\tLoss: 0.285686\n",
            "Train Epoch: 6 [44800/60000 (75%)]\tLoss: 0.304879\n",
            "Train Epoch: 6 [51200/60000 (85%)]\tLoss: 0.373654\n",
            "Train Epoch: 6 [57600/60000 (96%)]\tLoss: 0.410267\n",
            "Train Epoch: 7 [0/60000 (0%)]\tLoss: 0.407616\n",
            "Train Epoch: 7 [6400/60000 (11%)]\tLoss: 0.250376\n",
            "Train Epoch: 7 [12800/60000 (21%)]\tLoss: 0.381464\n",
            "Train Epoch: 7 [19200/60000 (32%)]\tLoss: 0.468434\n",
            "Train Epoch: 7 [25600/60000 (43%)]\tLoss: 0.202141\n",
            "Train Epoch: 7 [32000/60000 (53%)]\tLoss: 0.163297\n",
            "Train Epoch: 7 [38400/60000 (64%)]\tLoss: 0.313944\n",
            "Train Epoch: 7 [44800/60000 (75%)]\tLoss: 0.262128\n",
            "Train Epoch: 7 [51200/60000 (85%)]\tLoss: 0.370695\n",
            "Train Epoch: 7 [57600/60000 (96%)]\tLoss: 0.364871\n",
            "Train Epoch: 8 [0/60000 (0%)]\tLoss: 0.214627\n",
            "Train Epoch: 8 [6400/60000 (11%)]\tLoss: 0.230903\n",
            "Train Epoch: 8 [12800/60000 (21%)]\tLoss: 0.205822\n",
            "Train Epoch: 8 [19200/60000 (32%)]\tLoss: 0.264225\n",
            "Train Epoch: 8 [25600/60000 (43%)]\tLoss: 0.238196\n",
            "Train Epoch: 8 [32000/60000 (53%)]\tLoss: 0.175907\n",
            "Train Epoch: 8 [38400/60000 (64%)]\tLoss: 0.241803\n",
            "Train Epoch: 8 [44800/60000 (75%)]\tLoss: 0.102882\n",
            "Train Epoch: 8 [51200/60000 (85%)]\tLoss: 0.390578\n",
            "Train Epoch: 8 [57600/60000 (96%)]\tLoss: 0.330499\n",
            "Train Epoch: 9 [0/60000 (0%)]\tLoss: 0.207350\n",
            "Train Epoch: 9 [6400/60000 (11%)]\tLoss: 0.392731\n",
            "Train Epoch: 9 [12800/60000 (21%)]\tLoss: 0.280625\n",
            "Train Epoch: 9 [19200/60000 (32%)]\tLoss: 0.227984\n",
            "Train Epoch: 9 [25600/60000 (43%)]\tLoss: 0.313063\n",
            "Train Epoch: 9 [32000/60000 (53%)]\tLoss: 0.250825\n",
            "Train Epoch: 9 [38400/60000 (64%)]\tLoss: 0.209812\n",
            "Train Epoch: 9 [44800/60000 (75%)]\tLoss: 0.297359\n",
            "Train Epoch: 9 [51200/60000 (85%)]\tLoss: 0.154911\n",
            "Train Epoch: 9 [57600/60000 (96%)]\tLoss: 0.205050\n",
            "Train Epoch: 10 [0/60000 (0%)]\tLoss: 0.159299\n",
            "Train Epoch: 10 [6400/60000 (11%)]\tLoss: 0.231968\n",
            "Train Epoch: 10 [12800/60000 (21%)]\tLoss: 0.240724\n",
            "Train Epoch: 10 [19200/60000 (32%)]\tLoss: 0.227480\n",
            "Train Epoch: 10 [25600/60000 (43%)]\tLoss: 0.307446\n",
            "Train Epoch: 10 [32000/60000 (53%)]\tLoss: 0.229693\n",
            "Train Epoch: 10 [38400/60000 (64%)]\tLoss: 0.453877\n",
            "Train Epoch: 10 [44800/60000 (75%)]\tLoss: 0.275370\n",
            "Train Epoch: 10 [51200/60000 (85%)]\tLoss: 0.183540\n",
            "Train Epoch: 10 [57600/60000 (96%)]\tLoss: 0.354052\n"
          ]
        }
      ]
    },
    {
      "cell_type": "code",
      "source": [
        "plt.plot(loss_history)"
      ],
      "metadata": {
        "colab": {
          "base_uri": "https://localhost:8080/",
          "height": 448
        },
        "id": "uAPnAtWELq31",
        "outputId": "2397e283-9b1e-4826-9923-947970d12698"
      },
      "execution_count": 16,
      "outputs": [
        {
          "output_type": "execute_result",
          "data": {
            "text/plain": [
              "[<matplotlib.lines.Line2D at 0x7c0f0cb96090>]"
            ]
          },
          "metadata": {},
          "execution_count": 16
        },
        {
          "output_type": "display_data",
          "data": {
            "text/plain": [
              "<Figure size 640x480 with 1 Axes>"
            ],
            "image/png": "[encoded data removed]"
          },
          "metadata": {}
        }
      ]
    },
    {
      "cell_type": "code",
      "source": [
        "evaluate(model, device, test_loader)"
      ],
      "metadata": {
        "colab": {
          "base_uri": "https://localhost:8080/"
        },
        "id": "I7vWHGxoLqkj",
        "outputId": "b24df60a-1cd3-4c47-b563-092cee6b1a51"
      },
      "execution_count": 17,
      "outputs": [
        {
          "output_type": "stream",
          "name": "stderr",
          "text": [
            "<ipython-input-3-c662d2e649e2>:46: DeprecationWarning: __array__ implementation doesn't accept a copy keyword, so passing copy=False failed. __array__ must implement 'dtype' and 'copy' keyword arguments.\n",
            "  inputs[j,:] = self.data[c_distractor][idx,:].flatten()\n",
            "<ipython-input-3-c662d2e649e2>:42: DeprecationWarning: __array__ implementation doesn't accept a copy keyword, so passing copy=False failed. __array__ must implement 'dtype' and 'copy' keyword arguments.\n",
            "  inputs[j,:] = self.data[(c+1)%10][idx,:].flatten()\n"
          ]
        },
        {
          "output_type": "stream",
          "name": "stdout",
          "text": [
            "Accuracy =  93.09\n"
          ]
        }
      ]
    },
    {
      "cell_type": "markdown",
      "source": [
        "---\n",
        "Comparing the two models, the **Additive AttentionModel** achieved an accuracy of **92.06%**, while the **Dot-Product Attention Model** slightly outperformed it with **93.09%**. This small but noticeable difference suggests that dot product attention might be more effective or computationally efficient for this task. Dot product attention benefits from simpler operations (no extra parameters or activations beyond the projection layers), which may lead to faster convergence or better gradient flow. However, both models perform very similarly, indicating that either could be suitable depending on the specific application or preference for interpretability.\n",
        "\n",
        "\n",
        "---"
      ],
      "metadata": {
        "id": "g-K26TmBMDC-"
      }
    }
  ],
  "metadata": {
    "accelerator": "GPU",
    "colab": {
      "provenance": [],
      "include_colab_link": true
    },
    "kernelspec": {
      "display_name": "pytorch",
      "language": "python",
      "name": "pytorch"
    },
    "language_info": {
      "codemirror_mode": {
        "name": "ipython",
        "version": 3
      },
      "file_extension": ".py",
      "mimetype": "text/x-python",
      "name": "python",
      "nbconvert_exporter": "python",
      "pygments_lexer": "ipython3",
      "version": "3.9.16"
    }
  },
  "nbformat": 4,
  "nbformat_minor": 0
}