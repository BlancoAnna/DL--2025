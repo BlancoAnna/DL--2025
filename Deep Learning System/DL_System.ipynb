{
  "cells": [
    {
      "cell_type": "markdown",
      "id": "a8770448",
      "metadata": {
        "id": "a8770448"
      },
      "source": [
        "### Fundamentals of Natural Language Processing\n",
        "# Negation and Uncertainty Detection using a Machine-Learning Based Approach\n",
        "\n",
        "*Authors:*\n",
        "\n",
        "> *Anna Blanco, Agustina Lazzati, Stanislav Bultaskii and Queralt Salvadó*\n",
        "\n",
        "*Aims:*\n",
        "> In natural language processing, accurately identifying negation and uncertainty is crucial for tasks like clinical information extraction or sentiment analysis. This project implements a deep learning-based approach to automatically detect such linguistic phenomena in text. By training sequence labeling models on annotated data, the system learns to recognize cue words (e.g., \"not\", \"unlikely\") and their corresponding scopes—the parts of the sentence affected by them. The goal is to improve text understanding by distinguishing between negated and uncertain statements."
      ]
    },
    {
      "cell_type": "markdown",
      "source": [
        "## Preprocessing\n"
      ],
      "metadata": {
        "id": "AApkfTGqvn5w"
      },
      "id": "AApkfTGqvn5w"
    },
    {
      "cell_type": "code",
      "execution_count": 27,
      "id": "OD99InlolDaK",
      "metadata": {
        "id": "OD99InlolDaK"
      },
      "outputs": [],
      "source": [
        "# Import necessary libraries and functions\n",
        "import json\n",
        "import spacy\n",
        "from collections import defaultdict\n",
        "import re\n",
        "import pandas as pd\n",
        "import numpy as np\n",
        "import pickle\n",
        "import torch.nn as nn"
      ]
    },
    {
      "cell_type": "markdown",
      "source": [
        "Now we need to load preprocessed data from a .pkl file containing training and test data for the negation and uncertainty cues and scopes:\n",
        "\n"
      ],
      "metadata": {
        "id": "zz21Q63bxHZf"
      },
      "id": "zz21Q63bxHZf"
    },
    {
      "cell_type": "code",
      "source": [
        "with open(\"lstm_data.pkl\", \"rb\") as f:\n",
        "    data_dict = pickle.load(f)\n",
        "\n",
        "lstm_train_data_neg_cue = data_dict[\"lstm_train_data_neg_cue\"]\n",
        "lstm_train_data_neg_scope = data_dict[\"lstm_train_data_neg_scope\"]\n",
        "lstm_train_data_unc_cue = data_dict[\"lstm_train_data_unc_cue\"]\n",
        "lstm_train_data_unc_scope = data_dict[\"lstm_train_data_unc_scope\"]\n",
        "\n",
        "lstm_test_data_neg_cue = data_dict[\"lstm_test_data_neg_cue\"]\n",
        "lstm_test_data_neg_scope = data_dict[\"lstm_test_data_neg_scope\"]\n",
        "lstm_test_data_unc_cue = data_dict[\"lstm_test_data_unc_cue\"]\n",
        "lstm_test_data_unc_scope = data_dict[\"lstm_test_data_unc_scope\"]\n",
        "\n",
        "print(lstm_train_data_neg_cue[2])"
      ],
      "metadata": {
        "colab": {
          "base_uri": "https://localhost:8080/"
        },
        "id": "YpRP1CIuFwHz",
        "outputId": "556dfd12-7358-4682-a918-5b6151d8c5d3"
      },
      "id": "YpRP1CIuFwHz",
      "execution_count": 28,
      "outputs": [
        {
          "output_type": "stream",
          "name": "stdout",
          "text": [
            "(['antecedents', 'alergia', 'a', 'penicilina', 'y', 'cloramfenicol', '.'], [0, 0, 0, 0, 0, 0, 0])\n"
          ]
        }
      ]
    },
    {
      "cell_type": "markdown",
      "source": [
        "Create unified labels by combining cue and scope labels into a single sequence:\n",
        "\n",
        "\"NEG_1\" or \"NSCO_1\" for negation\n",
        "\n",
        "\"UNC_1\" or \"UNSCO_1\" for uncertainty"
      ],
      "metadata": {
        "id": "LiouQLmjxcUe"
      },
      "id": "LiouQLmjxcUe"
    },
    {
      "cell_type": "code",
      "source": [
        "def merge_labels(cue_labels, scope_labels, cue_prefix=\"CUE\", scope_prefix=\"SCOPE\"):\n",
        "    merged = []\n",
        "    for cue, scope in zip(cue_labels, scope_labels):\n",
        "        if cue != 0:\n",
        "            merged.append(f\"{cue_prefix}_{str(cue)}\")\n",
        "        elif scope != 0:\n",
        "            merged.append(f\"{scope_prefix}_{str(scope)}\")\n",
        "        else:\n",
        "            merged.append(\"0\")\n",
        "    return merged"
      ],
      "metadata": {
        "id": "pczB1GJeHk5G"
      },
      "id": "pczB1GJeHk5G",
      "execution_count": 29,
      "outputs": []
    },
    {
      "cell_type": "markdown",
      "source": [
        "Generate datasets of (tokens, merged_labels) for negation and uncertainty:"
      ],
      "metadata": {
        "id": "TbaYaMZixiFS"
      },
      "id": "TbaYaMZixiFS"
    },
    {
      "cell_type": "code",
      "source": [
        "# Merge negation data\n",
        "lstm_train_data_neg = [\n",
        "    (tokens, merge_labels(cue_labels, scope_labels, cue_prefix=\"NEG\", scope_prefix=\"NSCO\"))\n",
        "    for (tokens, cue_labels), (_, scope_labels) in zip(lstm_train_data_neg_cue, lstm_train_data_neg_scope)\n",
        "]\n",
        "\n",
        "lstm_test_data_neg = [\n",
        "    (tokens, merge_labels(cue_labels, scope_labels, cue_prefix=\"NEG\", scope_prefix=\"NSCO\"))\n",
        "    for (tokens, cue_labels), (_, scope_labels) in zip(lstm_test_data_neg_cue, lstm_test_data_neg_scope)\n",
        "]\n",
        "\n",
        "# Similarly for uncertainty\n",
        "lstm_train_data_unc = [\n",
        "    (tokens, merge_labels(cue_labels, scope_labels, cue_prefix=\"UNC\", scope_prefix=\"UNSCO\"))\n",
        "    for (tokens, cue_labels), (_, scope_labels) in zip(lstm_train_data_unc_cue, lstm_train_data_unc_scope)\n",
        "]\n",
        "\n",
        "lstm_test_data_unc = [\n",
        "    (tokens, merge_labels(cue_labels, scope_labels, cue_prefix=\"UNC\", scope_prefix=\"UNSCO\"))\n",
        "    for (tokens, cue_labels), (_, scope_labels) in zip(lstm_test_data_unc_cue, lstm_test_data_unc_scope)\n",
        "]\n",
        "\n",
        "print(lstm_train_data_neg[3])"
      ],
      "metadata": {
        "colab": {
          "base_uri": "https://localhost:8080/"
        },
        "id": "4Cy16eUrHl38",
        "outputId": "74093ea8-e5c6-4b42-fe70-d93fa7352de3"
      },
      "id": "4Cy16eUrHl38",
      "execution_count": 30,
      "outputs": [
        {
          "output_type": "stream",
          "name": "stdout",
          "text": [
            "(['no', 'habitos', 'toxicos', '.'], ['NEG_1', 'NSCO_1', 'NSCO_1', 'NSCO_1'])\n"
          ]
        }
      ]
    },
    {
      "cell_type": "code",
      "source": [
        "!pip install fasttext\n",
        "\n",
        "import fasttext\n",
        "\n",
        "# Download the English fastText model\n",
        "!wget https://dl.fbaipublicfiles.com/fasttext/vectors-crawl/cc.en.300.bin.gz\n",
        "# Unzip the downloaded file\n",
        "!gunzip cc.en.300.bin.gz"
      ],
      "metadata": {
        "colab": {
          "base_uri": "https://localhost:8080/"
        },
        "id": "LBh1-_eBGo0J",
        "outputId": "1665461a-d549-4856-a00a-a99445c5966b"
      },
      "id": "LBh1-_eBGo0J",
      "execution_count": 31,
      "outputs": [
        {
          "output_type": "stream",
          "name": "stdout",
          "text": [
            "Requirement already satisfied: fasttext in /usr/local/lib/python3.11/dist-packages (0.9.3)\n",
            "Requirement already satisfied: pybind11>=2.2 in /usr/local/lib/python3.11/dist-packages (from fasttext) (2.13.6)\n",
            "Requirement already satisfied: setuptools>=0.7.0 in /usr/local/lib/python3.11/dist-packages (from fasttext) (75.2.0)\n",
            "Requirement already satisfied: numpy in /usr/local/lib/python3.11/dist-packages (from fasttext) (2.0.2)\n",
            "--2025-05-27 17:32:53--  https://dl.fbaipublicfiles.com/fasttext/vectors-crawl/cc.en.300.bin.gz\n",
            "Resolving dl.fbaipublicfiles.com (dl.fbaipublicfiles.com)... 3.163.189.51, 3.163.189.96, 3.163.189.108, ...\n",
            "Connecting to dl.fbaipublicfiles.com (dl.fbaipublicfiles.com)|3.163.189.51|:443... connected.\n",
            "HTTP request sent, awaiting response... 200 OK\n",
            "Length: 4503593528 (4.2G) [application/octet-stream]\n",
            "Saving to: ‘cc.en.300.bin.gz’\n",
            "\n",
            "cc.en.300.bin.gz    100%[===================>]   4.19G  33.4MB/s    in 2m 51s  \n",
            "\n",
            "2025-05-27 17:35:44 (25.2 MB/s) - ‘cc.en.300.bin.gz’ saved [4503593528/4503593528]\n",
            "\n",
            "gzip: cc.en.300.bin already exists; do you wish to overwrite (y or n)? y\n",
            "y\n",
            "y\n",
            "y\n",
            "y\n",
            "yes\n",
            "y\n",
            "y\n",
            "^C\n"
          ]
        }
      ]
    },
    {
      "cell_type": "code",
      "source": [
        "# Load pretrained FastText model (English, 300-dimensional vectors)\n",
        "fasttext_model = fasttext.load_model(\"cc.en.300.bin\")"
      ],
      "metadata": {
        "id": "tySN5ggvGv75",
        "colab": {
          "base_uri": "https://localhost:8080/",
          "height": 335
        },
        "outputId": "891e412a-bd2a-4153-e651-372fb2a8cc0e"
      },
      "id": "tySN5ggvGv75",
      "execution_count": 33,
      "outputs": [
        {
          "output_type": "error",
          "ename": "ValueError",
          "evalue": "cc.en.300.bin cannot be opened for loading!",
          "traceback": [
            "\u001b[0;31m---------------------------------------------------------------------------\u001b[0m",
            "\u001b[0;31mValueError\u001b[0m                                Traceback (most recent call last)",
            "\u001b[0;32m<ipython-input-33-e8a551549ef9>\u001b[0m in \u001b[0;36m<cell line: 0>\u001b[0;34m()\u001b[0m\n\u001b[1;32m      1\u001b[0m \u001b[0;31m# Load pretrained FastText model (English, 300-dimensional vectors)\u001b[0m\u001b[0;34m\u001b[0m\u001b[0;34m\u001b[0m\u001b[0m\n\u001b[0;32m----> 2\u001b[0;31m \u001b[0mfasttext_model\u001b[0m \u001b[0;34m=\u001b[0m \u001b[0mfasttext\u001b[0m\u001b[0;34m.\u001b[0m\u001b[0mload_model\u001b[0m\u001b[0;34m(\u001b[0m\u001b[0;34m\"cc.en.300.bin\"\u001b[0m\u001b[0;34m)\u001b[0m\u001b[0;34m\u001b[0m\u001b[0;34m\u001b[0m\u001b[0m\n\u001b[0m",
            "\u001b[0;32m/usr/local/lib/python3.11/dist-packages/fasttext/FastText.py\u001b[0m in \u001b[0;36mload_model\u001b[0;34m(path)\u001b[0m\n\u001b[1;32m    443\u001b[0m \u001b[0;32mdef\u001b[0m \u001b[0mload_model\u001b[0m\u001b[0;34m(\u001b[0m\u001b[0mpath\u001b[0m\u001b[0;34m)\u001b[0m\u001b[0;34m:\u001b[0m\u001b[0;34m\u001b[0m\u001b[0;34m\u001b[0m\u001b[0m\n\u001b[1;32m    444\u001b[0m     \u001b[0;34m\"\"\"Load a model given a filepath and return a model object.\"\"\"\u001b[0m\u001b[0;34m\u001b[0m\u001b[0;34m\u001b[0m\u001b[0m\n\u001b[0;32m--> 445\u001b[0;31m     \u001b[0;32mreturn\u001b[0m \u001b[0m_FastText\u001b[0m\u001b[0;34m(\u001b[0m\u001b[0mmodel_path\u001b[0m\u001b[0;34m=\u001b[0m\u001b[0mpath\u001b[0m\u001b[0;34m)\u001b[0m\u001b[0;34m\u001b[0m\u001b[0;34m\u001b[0m\u001b[0m\n\u001b[0m\u001b[1;32m    446\u001b[0m \u001b[0;34m\u001b[0m\u001b[0m\n\u001b[1;32m    447\u001b[0m \u001b[0;34m\u001b[0m\u001b[0m\n",
            "\u001b[0;32m/usr/local/lib/python3.11/dist-packages/fasttext/FastText.py\u001b[0m in \u001b[0;36m__init__\u001b[0;34m(self, model_path, args)\u001b[0m\n\u001b[1;32m     91\u001b[0m         \u001b[0mself\u001b[0m\u001b[0;34m.\u001b[0m\u001b[0mf\u001b[0m \u001b[0;34m=\u001b[0m \u001b[0mfasttext\u001b[0m\u001b[0;34m.\u001b[0m\u001b[0mfasttext\u001b[0m\u001b[0;34m(\u001b[0m\u001b[0;34m)\u001b[0m\u001b[0;34m\u001b[0m\u001b[0;34m\u001b[0m\u001b[0m\n\u001b[1;32m     92\u001b[0m         \u001b[0;32mif\u001b[0m \u001b[0mmodel_path\u001b[0m \u001b[0;32mis\u001b[0m \u001b[0;32mnot\u001b[0m \u001b[0;32mNone\u001b[0m\u001b[0;34m:\u001b[0m\u001b[0;34m\u001b[0m\u001b[0;34m\u001b[0m\u001b[0m\n\u001b[0;32m---> 93\u001b[0;31m             \u001b[0mself\u001b[0m\u001b[0;34m.\u001b[0m\u001b[0mf\u001b[0m\u001b[0;34m.\u001b[0m\u001b[0mloadModel\u001b[0m\u001b[0;34m(\u001b[0m\u001b[0mmodel_path\u001b[0m\u001b[0;34m)\u001b[0m\u001b[0;34m\u001b[0m\u001b[0;34m\u001b[0m\u001b[0m\n\u001b[0m\u001b[1;32m     94\u001b[0m         \u001b[0mself\u001b[0m\u001b[0;34m.\u001b[0m\u001b[0m_words\u001b[0m \u001b[0;34m=\u001b[0m \u001b[0;32mNone\u001b[0m\u001b[0;34m\u001b[0m\u001b[0;34m\u001b[0m\u001b[0m\n\u001b[1;32m     95\u001b[0m         \u001b[0mself\u001b[0m\u001b[0;34m.\u001b[0m\u001b[0m_labels\u001b[0m \u001b[0;34m=\u001b[0m \u001b[0;32mNone\u001b[0m\u001b[0;34m\u001b[0m\u001b[0;34m\u001b[0m\u001b[0m\n",
            "\u001b[0;31mValueError\u001b[0m: cc.en.300.bin cannot be opened for loading!"
          ]
        }
      ]
    },
    {
      "cell_type": "markdown",
      "source": [
        "Create:\n",
        "\n",
        "word2idx: maps each unique word to an index.\n",
        "\n",
        "label2idx: maps each label (e.g., \"NEG_1\") to an index."
      ],
      "metadata": {
        "id": "q5Zj2Wc6xotq"
      },
      "id": "q5Zj2Wc6xotq"
    },
    {
      "cell_type": "code",
      "source": [
        "from collections import defaultdict\n",
        "\n",
        "def build_vocab(sentences):\n",
        "    word2idx = defaultdict(lambda: 0)  # unknown token index = 0\n",
        "    idx = 1\n",
        "    for sent in sentences:\n",
        "        for word in sent:\n",
        "            if word not in word2idx:\n",
        "                word2idx[word] = idx\n",
        "                idx += 1\n",
        "    return dict(word2idx)\n",
        "\n",
        "def build_label_vocab(labels_list):\n",
        "    label_set = set()\n",
        "    for labels in labels_list:\n",
        "        label_set.update(labels)\n",
        "    label2idx = {label: i for i, label in enumerate(sorted(label_set))}\n",
        "    return label2idx\n",
        "\n",
        "# Train and Test data for negations\n",
        "all_train_sentences_neg = [x[0] for x in lstm_train_data_neg] # list of token lists\n",
        "all_train_labels_neg = [x[1] for x in lstm_train_data_neg] # list of label lists\n",
        "\n",
        "all_test_sentences_neg = [x[0] for x in lstm_test_data_neg]\n",
        "all_test_labels_neg = [x[1] for x in lstm_test_data_neg]\n",
        "\n",
        "# Train and Test data for uncertainties\n",
        "all_train_sentences_unc = [x[0] for x in lstm_train_data_unc]\n",
        "all_train_labels_unc = [x[1] for x in lstm_train_data_unc]\n",
        "\n",
        "all_test_sentences_unc = [x[0] for x in lstm_test_data_unc]\n",
        "all_test_labels_unc = [x[1] for x in lstm_test_data_unc]\n",
        "\n",
        "# Merge all sentences and labels into single lists\n",
        "all_sentences = (\n",
        "    all_train_sentences_neg + all_test_sentences_neg +\n",
        "    all_train_sentences_unc + all_test_sentences_unc\n",
        ")\n",
        "\n",
        "all_labels = (\n",
        "    all_train_labels_neg + all_test_labels_neg +\n",
        "    all_train_labels_unc + all_test_labels_unc\n",
        ")\n",
        "\n",
        "# Build vocabularies\n",
        "word2idx = build_vocab(all_sentences)\n",
        "label2idx = build_label_vocab(all_labels)\n",
        "\n",
        "print(f\"Vocabulary size (words): {len(word2idx)}\")\n",
        "print(f\"Number of unique labels: {len(label2idx)}\")\n",
        "\n",
        "# Optional: check example mappings\n",
        "print(f\"Example word2idx: {list(word2idx.items())[:10]}\")\n",
        "print(f\"Example label2idx: {list(label2idx.items())[:10]}\")"
      ],
      "metadata": {
        "id": "IplmnSStKkds",
        "outputId": "27195855-8c92-48f8-bddc-7d968d8861c2",
        "colab": {
          "base_uri": "https://localhost:8080/"
        }
      },
      "id": "IplmnSStKkds",
      "execution_count": 34,
      "outputs": [
        {
          "output_type": "stream",
          "name": "stdout",
          "text": [
            "Vocabulary size (words): 23359\n",
            "Number of unique labels: 5\n",
            "Example word2idx: [(' ', 1), ('nº', 2), ('historia', 3), ('clinica', 4), (':', 5), ('*', 6), ('nºepisodi', 7), ('sexe', 8), ('home', 9), ('data', 10)]\n",
            "Example label2idx: [('0', 0), ('NEG_1', 1), ('NSCO_1', 2), ('UNC_1', 3), ('UNSCO_1', 4)]\n"
          ]
        }
      ]
    },
    {
      "cell_type": "code",
      "source": [
        "import numpy as np\n",
        "\"\"\"\n",
        "Initializes an embedding matrix using FastText. If a word is not found, it is assigned a random vector.\n",
        "\n",
        "\"\"\"\n",
        "vocab_size = len(word2idx) + 1  # +1 for padding idx=0\n",
        "embedding_matrix = np.zeros((vocab_size, 300))\n",
        "\n",
        "for word, idx in word2idx.items():\n",
        "    try:\n",
        "        embedding_vector = fasttext_model.get_word_vector(word)\n",
        "        embedding_matrix[idx] = embedding_vector\n",
        "    except KeyError:\n",
        "        embedding_matrix[idx] = np.random.normal(scale=0.6, size=(300,))"
      ],
      "metadata": {
        "id": "u4rGVxVcKuQg"
      },
      "id": "u4rGVxVcKuQg",
      "execution_count": 35,
      "outputs": []
    },
    {
      "cell_type": "code",
      "source": [
        "\n",
        "def encode_sentences(sentences, word2idx):\n",
        "    encoded = []\n",
        "    for sent in sentences:\n",
        "        encoded.append([word2idx.get(word, 0) for word in sent])\n",
        "    return encoded\n",
        "\n",
        "def encode_labels(labels, label2idx):\n",
        "    encoded = []\n",
        "    for lab_seq in labels:\n",
        "        encoded.append([label2idx[str(label)] for label in lab_seq])\n",
        "    return encoded\n",
        "\n",
        "# Negation data\n",
        "X_train_neg = encode_sentences(all_train_sentences_neg, word2idx)\n",
        "y_train_neg = encode_labels(all_train_labels_neg, label2idx)\n",
        "\n",
        "X_test_neg = encode_sentences(all_test_sentences_neg, word2idx)\n",
        "y_test_neg = encode_labels(all_test_labels_neg, label2idx)\n",
        "\n",
        "# Uncertainty data\n",
        "X_train_unc = encode_sentences(all_train_sentences_unc, word2idx)\n",
        "y_train_unc = encode_labels(all_train_labels_unc, label2idx)\n",
        "\n",
        "X_test_unc = encode_sentences(all_test_sentences_unc, word2idx)\n",
        "y_test_unc = encode_labels(all_test_labels_unc, label2idx)\n",
        "\n",
        "# Show an example\n",
        "print(X_train_neg[2], y_train_neg[2])"
      ],
      "metadata": {
        "id": "rhzvfE6DOkx5",
        "outputId": "ae80164f-79bd-4f39-f952-005a81c9a991",
        "colab": {
          "base_uri": "https://localhost:8080/"
        }
      },
      "id": "rhzvfE6DOkx5",
      "execution_count": 36,
      "outputs": [
        {
          "output_type": "stream",
          "name": "stdout",
          "text": [
            "[45, 46, 47, 48, 49, 50, 44] [0, 0, 0, 0, 0, 0, 0]\n"
          ]
        }
      ]
    },
    {
      "cell_type": "code",
      "source": [
        "from torch.nn.utils.rnn import pad_sequence\n",
        "import torch\n",
        "\"\"\"\n",
        "Pads sequences so all have the same length, which is necessary for batch training.\n",
        "\"\"\"\n",
        "def pad_sequences(sequences, pad_value=0):\n",
        "    # Convert lists of indices to torch tensors\n",
        "    tensor_seqs = [torch.tensor(seq) for seq in sequences]\n",
        "    # Pad sequences to the max length in the batch\n",
        "    padded_seqs = pad_sequence(tensor_seqs, batch_first=True, padding_value=pad_value)\n",
        "    return padded_seqs\n",
        "\n",
        "# Pad inputs and labels (negation)\n",
        "X_train_neg_padded = pad_sequences(X_train_neg, pad_value=0)\n",
        "y_train_neg_padded = pad_sequences(y_train_neg, pad_value=label2idx.get('0', 0))\n",
        "\n",
        "X_test_neg_padded = pad_sequences(X_test_neg, pad_value=0)\n",
        "y_test_neg_padded = pad_sequences(y_test_neg, pad_value=label2idx.get('0', 0))\n",
        "\n",
        "# Pad inputs and labels (uncertainty)\n",
        "X_train_unc_padded = pad_sequences(X_train_unc, pad_value=0)\n",
        "y_train_unc_padded = pad_sequences(y_train_unc, pad_value=label2idx.get('0', 0))\n",
        "\n",
        "X_test_unc_padded = pad_sequences(X_test_unc, pad_value=0)\n",
        "y_test_unc_padded = pad_sequences(y_test_unc, pad_value=label2idx.get('0', 0))"
      ],
      "metadata": {
        "id": "Z1qT8Ql5QIwh"
      },
      "id": "Z1qT8Ql5QIwh",
      "execution_count": 37,
      "outputs": []
    },
    {
      "cell_type": "code",
      "source": [
        "from torch.utils.data import Dataset, DataLoader\n",
        "\"\"\"\n",
        "Wraps data into PyTorch Dataset and DataLoader objects for use in model training and evaluation.\n",
        "\"\"\"\n",
        "class SequenceTaggingDataset(Dataset):\n",
        "    def __init__(self, X, y):\n",
        "        self.X = X\n",
        "        self.y = y\n",
        "\n",
        "    def __len__(self):\n",
        "        return len(self.X)\n",
        "\n",
        "    def __getitem__(self, idx):\n",
        "        return self.X[idx], self.y[idx]\n",
        "\n",
        "# Create dataset objects\n",
        "train_dataset_neg = SequenceTaggingDataset(X_train_neg_padded, y_train_neg_padded)\n",
        "test_dataset_neg = SequenceTaggingDataset(X_test_neg_padded, y_test_neg_padded)\n",
        "\n",
        "train_dataset_unc = SequenceTaggingDataset(X_train_unc_padded, y_train_unc_padded)\n",
        "test_dataset_unc = SequenceTaggingDataset(X_test_unc_padded, y_test_unc_padded)\n",
        "\n",
        "# Create dataloaders\n",
        "train_loader_neg = DataLoader(train_dataset_neg, batch_size=32, shuffle=True)\n",
        "test_loader_neg = DataLoader(test_dataset_neg, batch_size=32, shuffle=False)\n",
        "\n",
        "train_loader_unc = DataLoader(train_dataset_unc, batch_size=32, shuffle=True)\n",
        "test_loader_unc = DataLoader(test_dataset_unc, batch_size=32, shuffle=False)"
      ],
      "metadata": {
        "id": "yKd8eUM2P_jM"
      },
      "id": "yKd8eUM2P_jM",
      "execution_count": 38,
      "outputs": []
    },
    {
      "cell_type": "markdown",
      "source": [
        "## LSTM Model"
      ],
      "metadata": {
        "id": "0-hz5_jlvjrZ"
      },
      "id": "0-hz5_jlvjrZ"
    },
    {
      "cell_type": "code",
      "source": [
        "class LSTMTagger(nn.Module):\n",
        "    def __init__(self, embedding_matrix, hidden_dim, output_dim):\n",
        "        super(LSTMTagger, self).__init__()\n",
        "        vocab_size, embedding_dim = embedding_matrix.shape\n",
        "\n",
        "        self.embedding = nn.Embedding.from_pretrained(torch.tensor(embedding_matrix, dtype=torch.float))\n",
        "        self.lstm = nn.LSTM(embedding_dim, hidden_dim, batch_first=True, bidirectional=True)\n",
        "        self.fc = nn.Linear(hidden_dim * 2, output_dim)\n",
        "\n",
        "    def forward(self, x):\n",
        "        embeds = self.embedding(x)\n",
        "        lstm_out, _ = self.lstm(embeds)\n",
        "        output = self.fc(lstm_out)\n",
        "        return output"
      ],
      "metadata": {
        "id": "h7F6vrodvzEi"
      },
      "id": "h7F6vrodvzEi",
      "execution_count": 39,
      "outputs": []
    },
    {
      "cell_type": "code",
      "source": [
        "hidden_dim = 128\n",
        "output_dim = len(label2idx)  # Number of unique labels\n",
        "\n",
        "device = torch.device(\"cuda\" if torch.cuda.is_available() else \"cpu\")\n",
        "\n",
        "model = LSTMTagger(embedding_matrix, hidden_dim, output_dim).to(device)\n"
      ],
      "metadata": {
        "id": "O6W47NhXyX4j"
      },
      "id": "O6W47NhXyX4j",
      "execution_count": 40,
      "outputs": []
    },
    {
      "cell_type": "code",
      "source": [
        "criterion = nn.CrossEntropyLoss(ignore_index=label2idx[\"0\"])  # ignore padding label\n",
        "optimizer = torch.optim.Adam(model.parameters(), lr=0.001)\n"
      ],
      "metadata": {
        "id": "9ihtXHLxycya"
      },
      "id": "9ihtXHLxycya",
      "execution_count": 41,
      "outputs": []
    },
    {
      "cell_type": "code",
      "source": [
        "num_epochs = 20\n",
        "loss_values = []  # Store total loss per epoch\n",
        "\n",
        "for epoch in range(num_epochs):\n",
        "    model.train()\n",
        "    total_loss = 0\n",
        "    for X_batch, y_batch in train_loader_neg:\n",
        "        X_batch = X_batch.to(device)\n",
        "        y_batch = y_batch.to(device)\n",
        "\n",
        "        optimizer.zero_grad()\n",
        "        outputs = model(X_batch)\n",
        "        outputs = outputs.view(-1, outputs.shape[-1])\n",
        "        y_batch = y_batch.view(-1)\n",
        "\n",
        "        loss = criterion(outputs, y_batch)\n",
        "        loss.backward()\n",
        "        optimizer.step()\n",
        "        total_loss += loss.item()\n",
        "\n",
        "    loss_values.append(total_loss)  # Save loss after each epoch\n",
        "    print(f\"Epoch {epoch+1}, Loss: {total_loss:.4f}\", flush=True)\n"
      ],
      "metadata": {
        "colab": {
          "base_uri": "https://localhost:8080/",
          "height": 475
        },
        "id": "GaVTQl2eyhue",
        "outputId": "b8648b85-7e48-4032-c60f-e816172b8ea3"
      },
      "id": "GaVTQl2eyhue",
      "execution_count": 46,
      "outputs": [
        {
          "output_type": "stream",
          "name": "stdout",
          "text": [
            "Epoch 1, Loss: nan\n",
            "Epoch 2, Loss: 0.0047\n",
            "Epoch 3, Loss: 0.0036\n",
            "Epoch 4, Loss: 0.0029\n",
            "Epoch 5, Loss: 0.0022\n",
            "Epoch 6, Loss: 0.0017\n",
            "Epoch 7, Loss: 0.0013\n",
            "Epoch 8, Loss: 0.0011\n",
            "Epoch 9, Loss: 0.0009\n",
            "Epoch 10, Loss: 0.0007\n",
            "Epoch 11, Loss: 0.0006\n",
            "Epoch 12, Loss: 0.0005\n",
            "Epoch 13, Loss: 0.0004\n",
            "Epoch 14, Loss: 0.0003\n"
          ]
        },
        {
          "output_type": "error",
          "ename": "KeyboardInterrupt",
          "evalue": "",
          "traceback": [
            "\u001b[0;31m---------------------------------------------------------------------------\u001b[0m",
            "\u001b[0;31mKeyboardInterrupt\u001b[0m                         Traceback (most recent call last)",
            "\u001b[0;32m<ipython-input-46-1b88fcdfc5ad>\u001b[0m in \u001b[0;36m<cell line: 0>\u001b[0;34m()\u001b[0m\n\u001b[1;32m     17\u001b[0m         \u001b[0mloss\u001b[0m\u001b[0;34m.\u001b[0m\u001b[0mbackward\u001b[0m\u001b[0;34m(\u001b[0m\u001b[0;34m)\u001b[0m\u001b[0;34m\u001b[0m\u001b[0;34m\u001b[0m\u001b[0m\n\u001b[1;32m     18\u001b[0m         \u001b[0moptimizer\u001b[0m\u001b[0;34m.\u001b[0m\u001b[0mstep\u001b[0m\u001b[0;34m(\u001b[0m\u001b[0;34m)\u001b[0m\u001b[0;34m\u001b[0m\u001b[0;34m\u001b[0m\u001b[0m\n\u001b[0;32m---> 19\u001b[0;31m         \u001b[0mtotal_loss\u001b[0m \u001b[0;34m+=\u001b[0m \u001b[0mloss\u001b[0m\u001b[0;34m.\u001b[0m\u001b[0mitem\u001b[0m\u001b[0;34m(\u001b[0m\u001b[0;34m)\u001b[0m\u001b[0;34m\u001b[0m\u001b[0;34m\u001b[0m\u001b[0m\n\u001b[0m\u001b[1;32m     20\u001b[0m \u001b[0;34m\u001b[0m\u001b[0m\n\u001b[1;32m     21\u001b[0m     \u001b[0mloss_values\u001b[0m\u001b[0;34m.\u001b[0m\u001b[0mappend\u001b[0m\u001b[0;34m(\u001b[0m\u001b[0mtotal_loss\u001b[0m\u001b[0;34m)\u001b[0m  \u001b[0;31m# Save loss after each epoch\u001b[0m\u001b[0;34m\u001b[0m\u001b[0;34m\u001b[0m\u001b[0m\n",
            "\u001b[0;31mKeyboardInterrupt\u001b[0m: "
          ]
        }
      ]
    },
    {
      "cell_type": "code",
      "source": [
        "import matplotlib.pyplot as plt\n",
        "\n",
        "plt.plot(range(1, num_epochs + 1), loss_values, marker='o')\n",
        "plt.title(\"Training Loss Over Epochs\")\n",
        "plt.xlabel(\"Epoch\")\n",
        "plt.ylabel(\"Total Loss\")\n",
        "plt.grid(True)\n",
        "plt.xticks(range(1, num_epochs + 1, max(1, num_epochs // 10)))\n",
        "plt.tight_layout()\n",
        "plt.show()\n"
      ],
      "metadata": {
        "colab": {
          "base_uri": "https://localhost:8080/",
          "height": 487
        },
        "id": "cb_930DXy25I",
        "outputId": "01393fcd-8894-41b4-8941-15833d2f4bf3"
      },
      "id": "cb_930DXy25I",
      "execution_count": 44,
      "outputs": [
        {
          "output_type": "display_data",
          "data": {
            "text/plain": [
              "<Figure size 640x480 with 1 Axes>"
            ],
            "image/png": "[encoded data removed]"
          },
          "metadata": {}
        }
      ]
    },
    {
      "cell_type": "code",
      "source": [
        "model.eval()\n",
        "correct, total = 0, 0\n",
        "with torch.no_grad():\n",
        "    for X_batch, y_batch in test_loader_neg:\n",
        "        X_batch = X_batch.to(device)\n",
        "        y_batch = y_batch.to(device)\n",
        "\n",
        "        outputs = model(X_batch)\n",
        "        predicted = torch.argmax(outputs, dim=2)  # (batch_size, seq_len)\n",
        "\n",
        "        mask = y_batch != label2idx[\"0\"]\n",
        "        correct += (predicted[mask] == y_batch[mask]).sum().item()\n",
        "        total += mask.sum().item()\n",
        "\n",
        "print(f\"Test Accuracy: {100 * correct / total:.2f}%\")\n"
      ],
      "metadata": {
        "colab": {
          "base_uri": "https://localhost:8080/"
        },
        "id": "VcN-9ccKylol",
        "outputId": "77186266-ad56-4189-fcab-4aafd9466e6f"
      },
      "id": "VcN-9ccKylol",
      "execution_count": 45,
      "outputs": [
        {
          "output_type": "stream",
          "name": "stdout",
          "text": [
            "Test Accuracy: 99.60%\n"
          ]
        }
      ]
    }
  ],
  "metadata": {
    "colab": {
      "provenance": [],
      "gpuType": "T4"
    },
    "kernelspec": {
      "display_name": "Python 3",
      "name": "python3"
    },
    "language_info": {
      "name": "python"
    },
    "accelerator": "GPU"
  },
  "nbformat": 4,
  "nbformat_minor": 5
}